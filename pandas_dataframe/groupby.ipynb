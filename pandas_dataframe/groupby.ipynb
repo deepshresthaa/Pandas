{
 "cells": [
  {
   "cell_type": "markdown",
   "metadata": {},
   "source": [
    "groupby()"
   ]
  },
  {
   "cell_type": "code",
   "execution_count": null,
   "metadata": {},
   "outputs": [],
   "source": [
    "#groupby is a concept of grouping data on the basis of categorical columns"
   ]
  },
  {
   "cell_type": "code",
   "execution_count": 14,
   "metadata": {},
   "outputs": [
    {
     "data": {
      "text/html": [
       "<div>\n",
       "<style scoped>\n",
       "    .dataframe tbody tr th:only-of-type {\n",
       "        vertical-align: middle;\n",
       "    }\n",
       "\n",
       "    .dataframe tbody tr th {\n",
       "        vertical-align: top;\n",
       "    }\n",
       "\n",
       "    .dataframe thead th {\n",
       "        text-align: right;\n",
       "    }\n",
       "</style>\n",
       "<table border=\"1\" class=\"dataframe\">\n",
       "  <thead>\n",
       "    <tr style=\"text-align: right;\">\n",
       "      <th></th>\n",
       "      <th>Series_Title</th>\n",
       "      <th>Released_Year</th>\n",
       "      <th>Runtime</th>\n",
       "      <th>Genre</th>\n",
       "      <th>IMDB_Rating</th>\n",
       "      <th>Director</th>\n",
       "      <th>Star1</th>\n",
       "      <th>No_of_Votes</th>\n",
       "      <th>Gross</th>\n",
       "      <th>Metascore</th>\n",
       "    </tr>\n",
       "  </thead>\n",
       "  <tbody>\n",
       "    <tr>\n",
       "      <th>0</th>\n",
       "      <td>The Shawshank Redemption</td>\n",
       "      <td>1994</td>\n",
       "      <td>142</td>\n",
       "      <td>Drama</td>\n",
       "      <td>9.3</td>\n",
       "      <td>Frank Darabont</td>\n",
       "      <td>Tim Robbins</td>\n",
       "      <td>2343110</td>\n",
       "      <td>28341469.0</td>\n",
       "      <td>80.0</td>\n",
       "    </tr>\n",
       "  </tbody>\n",
       "</table>\n",
       "</div>"
      ],
      "text/plain": [
       "               Series_Title Released_Year  Runtime  Genre  IMDB_Rating  \\\n",
       "0  The Shawshank Redemption          1994      142  Drama          9.3   \n",
       "\n",
       "         Director        Star1  No_of_Votes       Gross  Metascore  \n",
       "0  Frank Darabont  Tim Robbins      2343110  28341469.0       80.0  "
      ]
     },
     "execution_count": 14,
     "metadata": {},
     "output_type": "execute_result"
    }
   ],
   "source": [
    "import pandas as pd\n",
    "import numpy as np\n",
    "movies=pd.read_csv(\"/workspaces/Pandas/pandas_dataframe/imdb-top-1000.csv\")\n",
    "movies.head(1)"
   ]
  },
  {
   "cell_type": "code",
   "execution_count": 13,
   "metadata": {},
   "outputs": [
    {
     "data": {
      "text/plain": [
       "Genre\n",
       "Drama     3.540997e+10\n",
       "Action    3.263226e+10\n",
       "Comedy    1.566387e+10\n",
       "Name: Gross, dtype: float64"
      ]
     },
     "execution_count": 13,
     "metadata": {},
     "output_type": "execute_result"
    }
   ],
   "source": [
    "#1. Find the top 3 genres by total earning\n",
    "movies.groupby('Genre')['Gross'].sum().sort_values(ascending=False).head(3)"
   ]
  },
  {
   "cell_type": "code",
   "execution_count": 21,
   "metadata": {},
   "outputs": [
    {
     "data": {
      "text/plain": [
       "Genre\n",
       "Western    8.35\n",
       "Name: IMDB_Rating, dtype: float64"
      ]
     },
     "execution_count": 21,
     "metadata": {},
     "output_type": "execute_result"
    }
   ],
   "source": [
    "#2. Find the genre with highest average imbd rating\n",
    "movies.groupby('Genre')['IMDB_Rating'].mean().sort_values(ascending=False).head(1)\n",
    "\n"
   ]
  },
  {
   "cell_type": "code",
   "execution_count": 22,
   "metadata": {},
   "outputs": [
    {
     "data": {
      "text/plain": [
       "Director\n",
       "Christopher Nolan    11578345\n",
       "Name: No_of_Votes, dtype: int64"
      ]
     },
     "execution_count": 22,
     "metadata": {},
     "output_type": "execute_result"
    }
   ],
   "source": [
    "#3. Find director with most popularity on the basis of highest voting\n",
    "movies.groupby(\"Director\")['No_of_Votes'].sum().sort_values(ascending=False).head(1)"
   ]
  },
  {
   "cell_type": "code",
   "execution_count": 23,
   "metadata": {},
   "outputs": [
    {
     "data": {
      "text/plain": [
       "Genre\n",
       "Action       9.0\n",
       "Adventure    8.6\n",
       "Animation    8.6\n",
       "Biography    8.9\n",
       "Comedy       8.6\n",
       "Crime        9.2\n",
       "Drama        9.3\n",
       "Family       7.8\n",
       "Fantasy      8.1\n",
       "Film-Noir    8.1\n",
       "Horror       8.5\n",
       "Mystery      8.4\n",
       "Thriller     7.8\n",
       "Western      8.8\n",
       "Name: IMDB_Rating, dtype: float64"
      ]
     },
     "execution_count": 23,
     "metadata": {},
     "output_type": "execute_result"
    }
   ],
   "source": [
    "#4. Find the highest rated movie of each genre\n",
    "movies.groupby('Genre')['IMDB_Rating'].max()"
   ]
  },
  {
   "cell_type": "code",
   "execution_count": 26,
   "metadata": {},
   "outputs": [
    {
     "data": {
      "text/plain": [
       "Star1\n",
       "Tom Hanks          12\n",
       "Robert De Niro     11\n",
       "Al Pacino          10\n",
       "Clint Eastwood     10\n",
       "Humphrey Bogart     9\n",
       "                   ..\n",
       "Preity Zinta        1\n",
       "Javier Bardem       1\n",
       "Ki-duk Kim          1\n",
       "Vladimir Garin      1\n",
       "Robert Donat        1\n",
       "Name: count, Length: 660, dtype: int64"
      ]
     },
     "execution_count": 26,
     "metadata": {},
     "output_type": "execute_result"
    }
   ],
   "source": [
    "#5 find no. of movies done by each actor\n",
    "movies['Star1'].value_counts()"
   ]
  },
  {
   "cell_type": "code",
   "execution_count": 30,
   "metadata": {},
   "outputs": [
    {
     "data": {
      "text/plain": [
       "Star1\n",
       "Tom Hanks    12\n",
       "Name: Series_Title, dtype: int64"
      ]
     },
     "execution_count": 30,
     "metadata": {},
     "output_type": "execute_result"
    }
   ],
   "source": [
    "#second way(without value_counts())\n",
    "movies.groupby('Star1')['Series_Title'].count().sort_values(ascending=False)"
   ]
  },
  {
   "cell_type": "code",
   "execution_count": null,
   "metadata": {},
   "outputs": [],
   "source": []
  },
  {
   "cell_type": "code",
   "execution_count": null,
   "metadata": {},
   "outputs": [],
   "source": []
  }
 ],
 "metadata": {
  "kernelspec": {
   "display_name": "Python 3",
   "language": "python",
   "name": "python3"
  },
  "language_info": {
   "codemirror_mode": {
    "name": "ipython",
    "version": 3
   },
   "file_extension": ".py",
   "mimetype": "text/x-python",
   "name": "python",
   "nbconvert_exporter": "python",
   "pygments_lexer": "ipython3",
   "version": "3.10.13"
  }
 },
 "nbformat": 4,
 "nbformat_minor": 2
}
